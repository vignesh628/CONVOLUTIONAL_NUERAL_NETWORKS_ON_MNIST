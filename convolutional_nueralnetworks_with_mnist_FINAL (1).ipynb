{
  "nbformat": 4,
  "nbformat_minor": 0,
  "metadata": {
    "colab": {
      "name": "convolutional nueralnetworks with mnist_FINAL.ipynb",
      "version": "0.3.2",
      "provenance": [],
      "collapsed_sections": []
    },
    "kernelspec": {
      "name": "python3",
      "display_name": "Python 3"
    }
  },
  "cells": [
    {
      "metadata": {
        "id": "vSbCj7gQ5Ka0",
        "colab_type": "text"
      },
      "cell_type": "markdown",
      "source": [
        "##WE HAVE MNIST DATASET WITH 70000 DATAPOINTS WHERE WE EACH DATA POINT IS 28*28 MATRIX . WHICH IS 784 PIXELS REPRESENTINGNTHE EACH NUMBER RANGING FROM  0 TO 9. IN CASE OF CONVOLUTIONAL NUERAL NETWORKS WE WILL SEND THE IMAGE DATA DIRECTLY AND MODELISE THEM."
      ]
    },
    {
      "metadata": {
        "id": "_IMxm4w0JBMA",
        "colab_type": "code",
        "outputId": "cfa868f6-bc77-418d-d63e-ac38133f06e5",
        "colab": {
          "base_uri": "https://localhost:8080/",
          "height": 34
        }
      },
      "cell_type": "code",
      "source": [
        "from keras.datasets import mnist\n",
        "from keras.models import Sequential\n",
        "from keras.layers import Dense,Dropout,Flatten\n",
        "from keras.layers import Conv2D,MaxPooling2D\n",
        "from keras import backend as K"
      ],
      "execution_count": 0,
      "outputs": [
        {
          "output_type": "stream",
          "text": [
            "Using TensorFlow backend.\n"
          ],
          "name": "stderr"
        }
      ]
    },
    {
      "metadata": {
        "id": "2raeVtg0J6FX",
        "colab_type": "code",
        "colab": {}
      },
      "cell_type": "code",
      "source": [
        "batchsize=128\n",
        "numberofclasses=10\n",
        "epochs=20\n"
      ],
      "execution_count": 0,
      "outputs": []
    },
    {
      "metadata": {
        "id": "4cZm0dhRKC0S",
        "colab_type": "code",
        "outputId": "a2268c1b-172b-4441-ac7a-7791066476b9",
        "colab": {
          "base_uri": "https://localhost:8080/",
          "height": 52
        }
      },
      "cell_type": "code",
      "source": [
        "(xtrain,ytrain),(xtest,ytest)=mnist.load_data()"
      ],
      "execution_count": 0,
      "outputs": [
        {
          "output_type": "stream",
          "text": [
            "Downloading data from https://s3.amazonaws.com/img-datasets/mnist.npz\n",
            "11493376/11490434 [==============================] - 1s 0us/step\n"
          ],
          "name": "stdout"
        }
      ]
    },
    {
      "metadata": {
        "id": "k6wIASOIKMsU",
        "colab_type": "code",
        "outputId": "c0518a4f-21cf-4568-ec2a-c0ec52410e93",
        "colab": {
          "base_uri": "https://localhost:8080/",
          "height": 34
        }
      },
      "cell_type": "code",
      "source": [
        "print(xtrain.shape)"
      ],
      "execution_count": 0,
      "outputs": [
        {
          "output_type": "stream",
          "text": [
            "(60000, 28, 28)\n"
          ],
          "name": "stdout"
        }
      ]
    },
    {
      "metadata": {
        "id": "qs-ViHc1KrtN",
        "colab_type": "code",
        "colab": {}
      },
      "cell_type": "code",
      "source": [
        "img_rows,img_cols=28,28"
      ],
      "execution_count": 0,
      "outputs": []
    },
    {
      "metadata": {
        "id": "Y5hagswRKOTg",
        "colab_type": "code",
        "colab": {}
      },
      "cell_type": "code",
      "source": [
        "if K.image_data_format() == 'channels_first':\n",
        "    xtrain = xtrain.reshape(xtrain.shape[0], 1, img_rows, img_cols)\n",
        "    xtest = xtest.reshape(xtest.shape[0], 1, img_rows, img_cols)\n",
        "    input_shape = (1, img_rows, img_cols)\n",
        "else:\n",
        "    xtrain = xtrain.reshape(xtrain.shape[0], img_rows, img_cols, 1)\n",
        "    xtest = xtest.reshape(xtest.shape[0], img_rows, img_cols, 1)\n",
        "    input_shape = (img_rows, img_cols, 1)\n"
      ],
      "execution_count": 0,
      "outputs": []
    },
    {
      "metadata": {
        "id": "5ZBe_1DeKUin",
        "colab_type": "code",
        "outputId": "7b78cddb-a44d-48cb-a922-579ffef7debe",
        "colab": {
          "base_uri": "https://localhost:8080/",
          "height": 34
        }
      },
      "cell_type": "code",
      "source": [
        "print(xtrain.shape)"
      ],
      "execution_count": 0,
      "outputs": [
        {
          "output_type": "stream",
          "text": [
            "(60000, 28, 28, 1)\n"
          ],
          "name": "stdout"
        }
      ]
    },
    {
      "metadata": {
        "id": "AKopFpmPK0Y9",
        "colab_type": "code",
        "colab": {}
      },
      "cell_type": "code",
      "source": [
        "xtrain=xtrain.astype('float32')\n",
        "xtest=xtest.astype('float32')\n",
        "xtrain/=255\n",
        "xtest/=255"
      ],
      "execution_count": 0,
      "outputs": []
    },
    {
      "metadata": {
        "id": "Ipo1RsdnLEET",
        "colab_type": "code",
        "colab": {}
      },
      "cell_type": "code",
      "source": [
        "from keras.utils import to_categorical\n",
        "from keras.layers.normalization import BatchNormalization\n",
        "ytrain=to_categorical(ytrain,10)\n",
        "ytest=to_categorical(ytest,10)"
      ],
      "execution_count": 0,
      "outputs": []
    },
    {
      "metadata": {
        "id": "495Tc1R_Ns_-",
        "colab_type": "code",
        "colab": {}
      },
      "cell_type": "code",
      "source": [
        "import keras as keras\n",
        "model=Sequential()"
      ],
      "execution_count": 0,
      "outputs": []
    },
    {
      "metadata": {
        "id": "Fl5jMj0Pu1t9",
        "colab_type": "code",
        "colab": {}
      },
      "cell_type": "code",
      "source": [
        "def dynamicplot(x,validationy,testy,ax):\n",
        "  ax.plot(x,validationy,label='validatiomn loss')\n",
        "  ax.plot(x,testy,label='testloss')\n",
        "  plt.xlabel('epoch')\n",
        "  plt.ylabel('categroicalcrossentropy')\n",
        "  plt.legend()\n",
        "  plt.show()"
      ],
      "execution_count": 0,
      "outputs": []
    },
    {
      "metadata": {
        "id": "bzubzjBpLYwT",
        "colab_type": "code",
        "outputId": "39e15a77-4618-41c5-87ff-66da5403730b",
        "colab": {
          "base_uri": "https://localhost:8080/",
          "height": 141
        }
      },
      "cell_type": "code",
      "source": [
        "\n",
        "model.add(Conv2D(100,kernel_size=(3,3),activation='relu',input_shape=input_shape))\n",
        "model.add(MaxPooling2D(pool_size=(2,2)))\n",
        "model.add(Conv2D(250,(5,5),activation='relu'))\n",
        "model.add(Dropout(0.25))\n",
        "model.add(BatchNormalization())\n",
        "model.add(Flatten())\n",
        "model.add(Dense(10,activation='softmax'))\n",
        "model.compile(loss=keras.losses.categorical_crossentropy,optimizer='adam',metrics=['accuracy'])"
      ],
      "execution_count": 0,
      "outputs": [
        {
          "output_type": "stream",
          "text": [
            "WARNING:tensorflow:From /usr/local/lib/python3.6/dist-packages/tensorflow/python/framework/op_def_library.py:263: colocate_with (from tensorflow.python.framework.ops) is deprecated and will be removed in a future version.\n",
            "Instructions for updating:\n",
            "Colocations handled automatically by placer.\n",
            "WARNING:tensorflow:From /usr/local/lib/python3.6/dist-packages/keras/backend/tensorflow_backend.py:3445: calling dropout (from tensorflow.python.ops.nn_ops) with keep_prob is deprecated and will be removed in a future version.\n",
            "Instructions for updating:\n",
            "Please use `rate` instead of `keep_prob`. Rate should be set to `rate = 1 - keep_prob`.\n"
          ],
          "name": "stdout"
        }
      ]
    },
    {
      "metadata": {
        "id": "yuESCSRXNHTm",
        "colab_type": "code",
        "outputId": "e8558f42-83ab-4340-d131-bba7c65160d9",
        "colab": {
          "base_uri": "https://localhost:8080/",
          "height": 104
        }
      },
      "cell_type": "code",
      "source": [
        "history=model.fit(xtrain,ytrain,batch_size=100,epochs=20,verbose=0,validation_data=[xtest,ytest])\n",
        "score=model.evaluate(xtest,ytest,verbose=0)\n",
        "print('score',score[0])\n",
        "print('accuaracy',score[1])"
      ],
      "execution_count": 0,
      "outputs": [
        {
          "output_type": "stream",
          "text": [
            "WARNING:tensorflow:From /usr/local/lib/python3.6/dist-packages/tensorflow/python/ops/math_ops.py:3066: to_int32 (from tensorflow.python.ops.math_ops) is deprecated and will be removed in a future version.\n",
            "Instructions for updating:\n",
            "Use tf.cast instead.\n",
            "score 0.046494812891778835\n",
            "accuaracy 0.9927\n"
          ],
          "name": "stdout"
        }
      ]
    },
    {
      "metadata": {
        "id": "lY0-WcRZutyi",
        "colab_type": "code",
        "outputId": "08ee0015-ac1c-4032-b7b6-dba47d8af036",
        "colab": {
          "base_uri": "https://localhost:8080/",
          "height": 361
        }
      },
      "cell_type": "code",
      "source": [
        "import matplotlib.pyplot as plt\n",
        "fig,ax=plt.subplots()\n",
        "x=list(range(1,21))\n",
        "validationy=history.history['val_loss']\n",
        "testy=history.history['loss']\n",
        "dynamicplot(x,validationy,testy,ax)"
      ],
      "execution_count": 0,
      "outputs": [
        {
          "output_type": "display_data",
          "data": {
            "image/png": "[encoded data removed]",
            "text/plain": [
              "<Figure size 576x396 with 1 Axes>"
            ]
          },
          "metadata": {
            "tags": []
          }
        }
      ]
    },
    {
      "metadata": {
        "id": "1WgErovNOzOX",
        "colab_type": "code",
        "outputId": "03a8dafe-de6a-40e9-e25b-25acc3b029ef",
        "colab": {
          "base_uri": "https://localhost:8080/",
          "height": 141
        }
      },
      "cell_type": "code",
      "source": [
        "import keras as keras\n",
        "model=Sequential()\n",
        "model.add(Conv2D(350,kernel_size=(5,5),activation='relu',input_shape=input_shape))\n",
        "model.add(MaxPooling2D(pool_size=(2,2)))\n",
        "model.add(Conv2D(100,(4,4),activation='relu'))\n",
        "model.add(Dropout(0.5))\n",
        "model.add(MaxPooling2D(pool_size=(3,3)))\n",
        "model.add(Conv2D(75,(3,3),activation='relu'))\n",
        "model.add(Dropout(0.3))\n",
        "model.add(Conv2D(40,(1,1),activation='relu'))\n",
        "model.add(Dropout(0.5))\n",
        "model.add(Conv2D(25,(1,1),activation='relu'))\n",
        "model.add(Dropout(0.7))\n",
        "model.add(Flatten())\n",
        "model.add(Dense(10,activation='softmax'))\n",
        "model.compile(loss=keras.losses.categorical_crossentropy,optimizer='adam',metrics=['accuracy'])"
      ],
      "execution_count": 0,
      "outputs": [
        {
          "output_type": "stream",
          "text": [
            "WARNING:tensorflow:From /usr/local/lib/python3.6/dist-packages/tensorflow/python/framework/op_def_library.py:263: colocate_with (from tensorflow.python.framework.ops) is deprecated and will be removed in a future version.\n",
            "Instructions for updating:\n",
            "Colocations handled automatically by placer.\n",
            "WARNING:tensorflow:From /usr/local/lib/python3.6/dist-packages/keras/backend/tensorflow_backend.py:3445: calling dropout (from tensorflow.python.ops.nn_ops) with keep_prob is deprecated and will be removed in a future version.\n",
            "Instructions for updating:\n",
            "Please use `rate` instead of `keep_prob`. Rate should be set to `rate = 1 - keep_prob`.\n"
          ],
          "name": "stdout"
        }
      ]
    },
    {
      "metadata": {
        "id": "3JDpgdtrIGno",
        "colab_type": "code",
        "outputId": "425690b4-2e76-4824-fa1f-f84ac55f53b8",
        "colab": {
          "base_uri": "https://localhost:8080/",
          "height": 104
        }
      },
      "cell_type": "code",
      "source": [
        "history=model.fit(xtrain,ytrain,batch_size=100,epochs=20,verbose=0,validation_data=[xtest,ytest])\n",
        "score=model.evaluate(xtest,ytest,verbose=0)\n",
        "print('score',score[0])\n",
        "print('accuaracy',score[1])"
      ],
      "execution_count": 0,
      "outputs": [
        {
          "output_type": "stream",
          "text": [
            "WARNING:tensorflow:From /usr/local/lib/python3.6/dist-packages/tensorflow/python/ops/math_ops.py:3066: to_int32 (from tensorflow.python.ops.math_ops) is deprecated and will be removed in a future version.\n",
            "Instructions for updating:\n",
            "Use tf.cast instead.\n",
            "score 0.4806228316307068\n",
            "accuaracy 0.8004\n"
          ],
          "name": "stdout"
        }
      ]
    },
    {
      "metadata": {
        "id": "mfc34cqMvDjI",
        "colab_type": "code",
        "outputId": "51f9d73c-19a9-41af-f108-54ac6919bb58",
        "colab": {
          "base_uri": "https://localhost:8080/",
          "height": 361
        }
      },
      "cell_type": "code",
      "source": [
        "import matplotlib.pyplot as plt\n",
        "fig,ax=plt.subplots()\n",
        "x=list(range(1,21))\n",
        "validationy=history.history['val_loss']\n",
        "testy=history.history['loss']\n",
        "dynamicplot(x,validationy,testy,ax)"
      ],
      "execution_count": 0,
      "outputs": [
        {
          "output_type": "display_data",
          "data": {
            "image/png": "[encoded data removed]",
            "text/plain": [
              "<Figure size 576x396 with 1 Axes>"
            ]
          },
          "metadata": {
            "tags": []
          }
        }
      ]
    },
    {
      "metadata": {
        "id": "LeeTNF9OII86",
        "colab_type": "code",
        "colab": {}
      },
      "cell_type": "code",
      "source": [
        "import keras as keras\n",
        "model=Sequential()\n",
        "model.add(Conv2D(100,kernel_size=(2,2),activation='relu',input_shape=input_shape))\n",
        "model.add(MaxPooling2D(pool_size=(4,4)))\n",
        "model.add(Conv2D(80,kernel_size=(4,4),activation='relu',input_shape=input_shape))\n",
        "model.add(MaxPooling2D(pool_size=(2,2)))\n",
        "model.add(Dropout(0.25))\n",
        "model.add(BatchNormalization())\n",
        "model.add(Conv2D(70,kernel_size=(1,1),activation='relu',input_shape=input_shape))\n",
        "model.add(Conv2D(50,kernel_size=(1,1),activation='relu',input_shape=input_shape))\n",
        "\n",
        "model.add(Conv2D(60,kernel_size=(1,1),activation='relu',input_shape=input_shape))\n",
        "\n",
        "model.add(Dropout(0.5))\n",
        "model.add(Conv2D(100,kernel_size=(1,1),activation='relu',input_shape=input_shape))\n",
        "model.add(Dropout(0.6))\n",
        "model.add(Conv2D(100,kernel_size=(1,1),activation='relu',input_shape=input_shape))\n",
        "model.add(Conv2D(250,(1,1),activation='relu'))\n",
        "model.add(Dropout(0.55))\n",
        "model.add(BatchNormalization())\n",
        "model.add(Flatten())\n",
        "model.add(Dense(10,activation='softmax'))\n",
        "model.compile(loss=keras.losses.categorical_crossentropy,optimizer='adam',metrics=['accuracy'])"
      ],
      "execution_count": 0,
      "outputs": []
    },
    {
      "metadata": {
        "id": "2cGvtUEdIKHW",
        "colab_type": "code",
        "outputId": "46bd2609-9891-407c-fbc7-52ad40adaa1c",
        "colab": {
          "base_uri": "https://localhost:8080/",
          "height": 52
        }
      },
      "cell_type": "code",
      "source": [
        "history=model.fit(xtrain,ytrain,batch_size=100,epochs=20,verbose=0,validation_data=[xtest,ytest])\n",
        "score=model.evaluate(xtest,ytest,verbose=0)\n",
        "print('score',score[0])\n",
        "print('accuaracy',score[1])"
      ],
      "execution_count": 0,
      "outputs": [
        {
          "output_type": "stream",
          "text": [
            "score 0.10515939193330705\n",
            "accuaracy 0.9751\n"
          ],
          "name": "stdout"
        }
      ]
    },
    {
      "metadata": {
        "id": "X68vDulBvG3N",
        "colab_type": "code",
        "outputId": "f629db5d-79d8-48d8-ab61-734eedfa3786",
        "colab": {
          "base_uri": "https://localhost:8080/",
          "height": 361
        }
      },
      "cell_type": "code",
      "source": [
        "fig,ax=plt.subplots()\n",
        "x=list(range(1,21))\n",
        "validationy=history.history['val_loss']\n",
        "testy=history.history['loss']\n",
        "dynamicplot(x,validationy,testy,ax)"
      ],
      "execution_count": 0,
      "outputs": [
        {
          "output_type": "display_data",
          "data": {
            "image/png": "[encoded data removed]",
            "text/plain": [
              "<Figure size 576x396 with 1 Axes>"
            ]
          },
          "metadata": {
            "tags": []
          }
        }
      ]
    },
    {
      "metadata": {
        "id": "N49XgZUvJqzG",
        "colab_type": "code",
        "outputId": "a22a0892-ff45-4ae2-f161-a784330807fb",
        "colab": {
          "base_uri": "https://localhost:8080/",
          "height": 135
        }
      },
      "cell_type": "code",
      "source": [
        "import pandas as pd\n",
        "\n",
        "data = [[[100,250],2,0.99,0.04,'yes','yes'],[[350,100,75,40,25],5,0.8,0.48,'yes','NO'],[[100,80,70,50,60,100,100,250],8,0.9751,0.1,'yes','yes'] ]\n",
        "pd.DataFrame(data, columns=[\"CONV2d layers\",'numberof_convolutionallayers', \"testaccuracy\",'test_score','using_dropouts','using_batch_normalisation'],index=['1','2','3'])\n"
      ],
      "execution_count": 0,
      "outputs": [
        {
          "output_type": "execute_result",
          "data": {
            "text/html": [
              "<div>\n",
              "<style scoped>\n",
              "    .dataframe tbody tr th:only-of-type {\n",
              "        vertical-align: middle;\n",
              "    }\n",
              "\n",
              "    .dataframe tbody tr th {\n",
              "        vertical-align: top;\n",
              "    }\n",
              "\n",
              "    .dataframe thead th {\n",
              "        text-align: right;\n",
              "    }\n",
              "</style>\n",
              "<table border=\"1\" class=\"dataframe\">\n",
              "  <thead>\n",
              "    <tr style=\"text-align: right;\">\n",
              "      <th></th>\n",
              "      <th>CONV2d layers</th>\n",
              "      <th>numberof_convolutionallayers</th>\n",
              "      <th>testaccuracy</th>\n",
              "      <th>test_score</th>\n",
              "      <th>using_dropouts</th>\n",
              "      <th>using_batch_normalisation</th>\n",
              "    </tr>\n",
              "  </thead>\n",
              "  <tbody>\n",
              "    <tr>\n",
              "      <th>1</th>\n",
              "      <td>[100, 250]</td>\n",
              "      <td>2</td>\n",
              "      <td>0.9900</td>\n",
              "      <td>0.04</td>\n",
              "      <td>yes</td>\n",
              "      <td>yes</td>\n",
              "    </tr>\n",
              "    <tr>\n",
              "      <th>2</th>\n",
              "      <td>[350, 100, 75, 40, 25]</td>\n",
              "      <td>5</td>\n",
              "      <td>0.8000</td>\n",
              "      <td>0.48</td>\n",
              "      <td>yes</td>\n",
              "      <td>NO</td>\n",
              "    </tr>\n",
              "    <tr>\n",
              "      <th>3</th>\n",
              "      <td>[100, 80, 70, 50, 60, 100, 100, 250]</td>\n",
              "      <td>8</td>\n",
              "      <td>0.9751</td>\n",
              "      <td>0.10</td>\n",
              "      <td>yes</td>\n",
              "      <td>yes</td>\n",
              "    </tr>\n",
              "  </tbody>\n",
              "</table>\n",
              "</div>"
            ],
            "text/plain": [
              "                          CONV2d layers  numberof_convolutionallayers  \\\n",
              "1                            [100, 250]                             2   \n",
              "2                [350, 100, 75, 40, 25]                             5   \n",
              "3  [100, 80, 70, 50, 60, 100, 100, 250]                             8   \n",
              "\n",
              "   testaccuracy  test_score using_dropouts using_batch_normalisation  \n",
              "1        0.9900        0.04            yes                       yes  \n",
              "2        0.8000        0.48            yes                        NO  \n",
              "3        0.9751        0.10            yes                       yes  "
            ]
          },
          "metadata": {
            "tags": []
          },
          "execution_count": 1
        }
      ]
    },
    {
      "metadata": {
        "id": "RjsqLw6j6XQ3",
        "colab_type": "text"
      },
      "cell_type": "markdown",
      "source": [
        "### CONCLUSIONS,DOCUMENTATION AND KEYTAKEAWAYS"
      ]
    },
    {
      "metadata": {
        "id": "A60yyh3-6dY-",
        "colab_type": "text"
      },
      "cell_type": "markdown",
      "source": [
        "### WE NORMALISE THE DATA BEFORE THE DATA SENDING INTO THE CONVOLUTIONAL NUERAL NETWORK AND CONVERSINCE WE HAVE 10 CLASS T THE CLASS LABEL INTO THE CATEGORICAL. IN CONVOLUTIONAL NUERAL NETWORK WE USE FILTERS WHICH ARE USED TO EXTRACT FEATURES FROM THE DATA. WE USE THE MULTIPLE KERNELS WHICH ARE FILTERS . WE USE THE FILTERS TO EXTRACT THE FETURES FROM THE IMAGE  THE FEATURES LIKE EDGES ETC.... \n",
        "### WE DO THE MAXPOOLING WHICH MEANS REPLACING THE VALUES IN THE MAXIMUM VALUES OF THE SHAPE CONSIDERD.FINALLY WE FLATTEN THE THE NETWORK INTO 10 LAYER  SINCE WE HAVE 10 CLASS LABELS.WE USE SOFTMAX AS THE ACTIVATION FUNCTION TO OBTAIN THE PROBABILITIES WE CHOOSE THE VALUE WITH HIGHEST PROBABILITY AS THE OUTPUT.\n",
        "### WE TRY TO MINIMISE THE CATEGORICAL CROSS ENTROPY. WE PLOT THE MODELS FOR TEST AND CROSS VALIDATION LOSSES TO VISUALISE THE HOW THE MODELS ARE CONVERGING REDUCING THE LOSSES WITH THE INCREASED NUMBER OF EPOCHS.\n",
        "###OBSERVATIONS ARE MODELS WITH MORE NUMBER OF CONVOLUTIONAL NUERAL NETS ARE FASTER CONVERGING THAN THE OTHER MODELS.BUT THE INCREASING THENUMBER OF LAYERS ALWAYS DOES NOT INCREASE ACCURACY THERE MAY THE CHANCES OF OVER FIT IN THE DATA WHICH CAN REDUCE OUR ACCURACY.\n",
        "### WE HAVE ALSO USED THE DROPOUT LAYER AND BATCH NORMALISATION LAYER I WHICH DROPOUT LAYER WE INTODUCE DROPOUT PERCENTAGE BY TURING OF THE CELLS IN THE HIDDEN LAYER TO REDUCE THE CHANCES OF OVER FITTING. WE ALSO USED THE BATCH NORMALSATION LAYER TO NORMALISE BEACIUSE ONCE THE INPUTS ARE SENT INTO NUERAL NETWORK AFTER THE SENDING INTO THE ACTIVATION FUNCTIONS IT MAY LOOSE ITS ORIGINAL BEHAVIOR SO WE NORMLAISE THE DATA . THE MODEL PERFORMANCES ARE DESCRIBED IN THE TABLE ABOVE."
      ]
    },
    {
      "metadata": {
        "id": "1VXc01TU90-F",
        "colab_type": "code",
        "colab": {}
      },
      "cell_type": "code",
      "source": [
        ""
      ],
      "execution_count": 0,
      "outputs": []
    }
  ]
}